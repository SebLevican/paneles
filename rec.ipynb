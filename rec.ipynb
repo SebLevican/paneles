{
 "cells": [
  {
   "cell_type": "markdown",
   "metadata": {},
   "source": [
    "## Problema"
   ]
  },
  {
   "attachments": {
    "Untitled-2.webp": {
     "image/webp": "[encoded data removed]"
    },
    "Untitled.webp": {
     "image/webp": "[encoded data removed]"
    }
   },
   "cell_type": "markdown",
   "metadata": {},
   "source": [
    "El problema a resolver consiste en encontrar la máxima cantidad de rectángulos de dimensiones “a” y “b” (paneles solares) que caben dentro de un rectángulo de dimensiones “x” e “y” (techo), según se muestra en la siguiente figura:\n",
    "![Untitled.webp](attachment:Untitled.webp)\n",
    "\n",
    "Por ejemplo, podríamos decir que en el siguiente ejemplo caben 5 rectángulos de dimensiones 1 y 2, en un rectángulo de dimensiones 3 y 5.\n",
    "![Untitled-2.webp](attachment:Untitled-2.webp)"
   ]
  },
  {
   "cell_type": "markdown",
   "metadata": {},
   "source": [
    "## Instrucciones "
   ]
  },
  {
   "cell_type": "markdown",
   "metadata": {},
   "source": [
    "- Usa el lenguaje/framework que más te acomode. No hay una solución única al problema, por lo que puedes hacer lo que prefieras.\n",
    "- El algoritmo debe ser una sola función que reciba las dimensiones y retorne un solo integer con la cantidad de paneles que caben\n",
    "- No hay restricciones de orientación. Pon todos los rectángulos que puedas en la posición y sentido que prefieras.\n",
    "- No se pide nada gráfico."
   ]
  },
  {
   "cell_type": "markdown",
   "metadata": {},
   "source": [
    "# Optimización del Espacio para Paneles Solares\n",
    "\n",
    "## **Descripción del Problema**\n",
    "El objetivo es determinar la **cantidad máxima de paneles solares** de dimensiones $a \\times b$ que pueden colocarse en un techo rectangular de dimensiones $x \\times y$. Los paneles pueden rotarse y deben aprovechar al máximo el espacio disponible.\n",
    "\n",
    "## **Enunciado**\n",
    "Dado un techo ($x, y$) y paneles pequeños ($a, b$), determinar:\n",
    "1. La cantidad de paneles que caben **sin rotación** ($a \\times b$).\n",
    "2. La cantidad de paneles que caben **con rotación** ($b \\times a$).\n",
    "3. Seleccionar la mayor cantidad de paneles entre ambas configuraciones.\n",
    "\n",
    "### **Ejemplos**\n",
    "1. **Paneles** $1 \\times 2$, **Techo** $3 \\times 5$ ⇒ **Resultado esperado:** 7.\n",
    "2. **Paneles** $1 \\times 2$, **Techo** $2 \\times 4$ ⇒ **Resultado esperado:** 4.\n",
    "3. **Paneles** $2 \\times 2$, **Techo** $4 \\times 4$ ⇒ **Resultado esperado:** 4.\n",
    "\n",
    "---\n",
    "\n",
    "## **Solución Propuesta**\n",
    "\n",
    "### **Cálculo Sin Rotación**\n",
    "Para paneles de dimensiones $a \\times b$:\n",
    "1. Calcular cuántos paneles caben en filas completas:  \n",
    "   $$\\text{Filas completas} = \\left\\lfloor \\frac{x}{a} \\right\\rfloor \\times \\left\\lfloor \\frac{y}{b} \\right\\rfloor$$\n",
    "2. Evaluar si queda espacio para más paneles en las columnas restantes:\n",
    "   $$\\text{Columnas restantes} = \\left\\lfloor \\frac{x \\mod a}{b} \\right\\rfloor \\times \\left\\lfloor \\frac{y}{a} \\right\\rfloor$$\n",
    "3. Total de paneles sin rotación:\n",
    "   $$\\text{Total sin rotación} = \\text{Filas completas} + \\text{Columnas restantes}$$\n",
    "\n",
    "### **Cálculo Con Rotación**\n",
    "Para paneles de dimensiones $b \\times a$ (rotados):\n",
    "1. Calcular cuántos paneles caben en filas completas:  \n",
    "   $$\\text{Filas completas} = \\left\\lfloor \\frac{x}{b} \\right\\rfloor \\times \\left\\lfloor \\frac{y}{a} \\right\\rfloor$$\n",
    "2. Evaluar si queda espacio para más paneles en las columnas restantes:\n",
    "   $$\\text{Columnas restantes} = \\left\\lfloor \\frac{x \\mod b}{a} \\right\\rfloor \\times \\left\\lfloor \\frac{y}{b} \\right\\rfloor$$\n",
    "3. Total de paneles con rotación:\n",
    "   $$\\text{Total con rotación} = \\text{Filas completas} + \\text{Columnas restantes}$$\n",
    "\n",
    "### **Resultado Final**\n",
    "El resultado final será el máximo entre ambas configuraciones:\n",
    "$$\\text{Máximo total} = \\max(\\text{Total sin rotación}, \\text{Total con rotación})$$\n",
    "\n",
    "---\n",
    "\n"
   ]
  },
  {
   "cell_type": "code",
   "execution_count": 21,
   "metadata": {},
   "outputs": [
    {
     "name": "stdout",
     "output_type": "stream",
     "text": [
      "4\n",
      "7\n",
      "0\n"
     ]
    }
   ],
   "source": [
    "def max_solar_panels(x, y, a, b):\n",
    "    # Sin rotación\n",
    "    panels_1 = (x // a) * (y // b) + ((x % a) // b) * (y // a)\n",
    "    # Con rotación\n",
    "    panels_2 = (x // b) * (y // a) + ((x % b) // a) * (y // b)\n",
    "    # Máximo de ambas configuraciones\n",
    "    return max(panels_1, panels_2)\n",
    "\n",
    "# Ejemplo 1: Paneles 1x2 y techo 2x4\n",
    "print(max_solar_panels(2, 4, 1, 2))  \n",
    "\n",
    "# Ejemplo 2: Paneles 1x2 y techo 3x5\n",
    "print(max_solar_panels(3, 5, 1, 2))  \n",
    "\n",
    "# Ejemplo 3: Paneles 2x2 y techo 1x10\n",
    "print(max_solar_panels(1, 10, 2, 2))  \n"
   ]
  }
 ],
 "metadata": {
  "kernelspec": {
   "display_name": "venv",
   "language": "python",
   "name": "python3"
  },
  "language_info": {
   "codemirror_mode": {
    "name": "ipython",
    "version": 3
   },
   "file_extension": ".py",
   "mimetype": "text/x-python",
   "name": "python",
   "nbconvert_exporter": "python",
   "pygments_lexer": "ipython3",
   "version": "3.12.8"
  }
 },
 "nbformat": 4,
 "nbformat_minor": 2
}
